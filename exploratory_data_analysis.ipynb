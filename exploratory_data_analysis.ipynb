{
 "cells": [
  {
   "cell_type": "code",
   "execution_count": 10,
   "outputs": [],
   "source": [
    "import pandas as pd"
   ],
   "metadata": {
    "collapsed": false,
    "pycharm": {
     "name": "#%%\n"
    }
   }
  },
  {
   "cell_type": "markdown",
   "source": [
    "#### First tackle 'data.xlsx'"
   ],
   "metadata": {
    "collapsed": false,
    "pycharm": {
     "name": "#%% md\n"
    }
   }
  },
  {
   "cell_type": "code",
   "execution_count": 32,
   "outputs": [],
   "source": [
    "excel_file = pd.ExcelFile('data.xlsx')"
   ],
   "metadata": {
    "collapsed": false,
    "pycharm": {
     "name": "#%%\n"
    }
   }
  },
  {
   "cell_type": "code",
   "execution_count": 33,
   "outputs": [
    {
     "data": {
      "text/plain": "['Sheet0']"
     },
     "execution_count": 33,
     "metadata": {},
     "output_type": "execute_result"
    }
   ],
   "source": [
    "excel_file.sheet_names"
   ],
   "metadata": {
    "collapsed": false,
    "pycharm": {
     "name": "#%%\n"
    }
   }
  },
  {
   "cell_type": "code",
   "execution_count": 34,
   "outputs": [],
   "source": [
    "df = excel_file.parse('Sheet0')"
   ],
   "metadata": {
    "collapsed": false,
    "pycharm": {
     "name": "#%%\n"
    }
   }
  },
  {
   "cell_type": "code",
   "execution_count": 35,
   "outputs": [
    {
     "data": {
      "text/plain": "    Country Quarter  Company    Revenue\n0  Bulgaria  2020Q2    Apple  15.049732\n1  Bulgaria  2020Q2  Bullitt   0.043980\n2  Bulgaria  2020Q2      HMD   2.604022\n3  Bulgaria  2020Q2    Honor   1.030942\n4  Bulgaria  2020Q2   Huawei  20.704771",
      "text/html": "<div>\n<style scoped>\n    .dataframe tbody tr th:only-of-type {\n        vertical-align: middle;\n    }\n\n    .dataframe tbody tr th {\n        vertical-align: top;\n    }\n\n    .dataframe thead th {\n        text-align: right;\n    }\n</style>\n<table border=\"1\" class=\"dataframe\">\n  <thead>\n    <tr style=\"text-align: right;\">\n      <th></th>\n      <th>Country</th>\n      <th>Quarter</th>\n      <th>Company</th>\n      <th>Revenue</th>\n    </tr>\n  </thead>\n  <tbody>\n    <tr>\n      <th>0</th>\n      <td>Bulgaria</td>\n      <td>2020Q2</td>\n      <td>Apple</td>\n      <td>15.049732</td>\n    </tr>\n    <tr>\n      <th>1</th>\n      <td>Bulgaria</td>\n      <td>2020Q2</td>\n      <td>Bullitt</td>\n      <td>0.043980</td>\n    </tr>\n    <tr>\n      <th>2</th>\n      <td>Bulgaria</td>\n      <td>2020Q2</td>\n      <td>HMD</td>\n      <td>2.604022</td>\n    </tr>\n    <tr>\n      <th>3</th>\n      <td>Bulgaria</td>\n      <td>2020Q2</td>\n      <td>Honor</td>\n      <td>1.030942</td>\n    </tr>\n    <tr>\n      <th>4</th>\n      <td>Bulgaria</td>\n      <td>2020Q2</td>\n      <td>Huawei</td>\n      <td>20.704771</td>\n    </tr>\n  </tbody>\n</table>\n</div>"
     },
     "execution_count": 35,
     "metadata": {},
     "output_type": "execute_result"
    }
   ],
   "source": [
    "df.head()"
   ],
   "metadata": {
    "collapsed": false,
    "pycharm": {
     "name": "#%%\n"
    }
   }
  },
  {
   "cell_type": "code",
   "execution_count": 36,
   "outputs": [
    {
     "data": {
      "text/plain": "           Revenue\ncount   828.000000\nmean     17.920343\nstd      72.202902\nmin       0.001494\n25%       0.323618\n50%       1.109595\n75%       7.930275\nmax    1170.686911",
      "text/html": "<div>\n<style scoped>\n    .dataframe tbody tr th:only-of-type {\n        vertical-align: middle;\n    }\n\n    .dataframe tbody tr th {\n        vertical-align: top;\n    }\n\n    .dataframe thead th {\n        text-align: right;\n    }\n</style>\n<table border=\"1\" class=\"dataframe\">\n  <thead>\n    <tr style=\"text-align: right;\">\n      <th></th>\n      <th>Revenue</th>\n    </tr>\n  </thead>\n  <tbody>\n    <tr>\n      <th>count</th>\n      <td>828.000000</td>\n    </tr>\n    <tr>\n      <th>mean</th>\n      <td>17.920343</td>\n    </tr>\n    <tr>\n      <th>std</th>\n      <td>72.202902</td>\n    </tr>\n    <tr>\n      <th>min</th>\n      <td>0.001494</td>\n    </tr>\n    <tr>\n      <th>25%</th>\n      <td>0.323618</td>\n    </tr>\n    <tr>\n      <th>50%</th>\n      <td>1.109595</td>\n    </tr>\n    <tr>\n      <th>75%</th>\n      <td>7.930275</td>\n    </tr>\n    <tr>\n      <th>max</th>\n      <td>1170.686911</td>\n    </tr>\n  </tbody>\n</table>\n</div>"
     },
     "execution_count": 36,
     "metadata": {},
     "output_type": "execute_result"
    }
   ],
   "source": [
    "df.describe()"
   ],
   "metadata": {
    "collapsed": false,
    "pycharm": {
     "name": "#%%\n"
    }
   }
  },
  {
   "cell_type": "code",
   "execution_count": 37,
   "outputs": [
    {
     "data": {
      "text/plain": "Country    0\nQuarter    0\nCompany    0\nRevenue    0\ndtype: int64"
     },
     "execution_count": 37,
     "metadata": {},
     "output_type": "execute_result"
    }
   ],
   "source": [
    "df.isnull().sum()"
   ],
   "metadata": {
    "collapsed": false,
    "pycharm": {
     "name": "#%%\n"
    }
   }
  },
  {
   "cell_type": "markdown",
   "source": [
    "How many quarters does the dataset have?"
   ],
   "metadata": {
    "collapsed": false,
    "pycharm": {
     "name": "#%% md\n"
    }
   }
  },
  {
   "cell_type": "code",
   "execution_count": 38,
   "outputs": [
    {
     "data": {
      "text/plain": "array(['2020Q2', '2020Q3', '2020Q4', '2020Q1'], dtype=object)"
     },
     "execution_count": 38,
     "metadata": {},
     "output_type": "execute_result"
    }
   ],
   "source": [
    "df['Quarter'].unique()"
   ],
   "metadata": {
    "collapsed": false,
    "pycharm": {
     "name": "#%%\n"
    }
   }
  },
  {
   "cell_type": "code",
   "execution_count": 43,
   "outputs": [
    {
     "data": {
      "text/plain": "array(['Apple', 'Bullitt', 'HMD', 'Honor', 'Huawei', 'Lenovo',\n       'LG Electronics', 'Others', 'Samsung', 'Sony', 'TCL', 'Xiaomi',\n       'DORO', 'realme', 'Aligator', 'ASUS', 'Google', 'HTC', 'Maxcom',\n       'myPhone (EU)', 'OnePlus', 'Vodafone', 'Archos', 'Doogee', 'Navon',\n       'BQ (RU)', 'Inoi', 'Jinga', 'Meridian Mobile', 'OPPO', 'teXet',\n       'TP-Link', 'Transsion', 'vivo', 'Black Shark', 'EMPORIA',\n       'Kruger&Matz', 'Meizu', 'Orange', 'Ark', 'BlackView', 'DEXP',\n       'Digma', 'Haier', 'Irbis', 'Maxvi', 'MTS', 'nubia', 'Panasonic',\n       'Prestigio', 'RugGear', 'TPV', 'Vertex', 'ZTE', 'Tesla', 'Wiko',\n       'Energizer', 'Assistant', 'Astro', 'Ergo', 'Nomi', 'NOUS', 'Sigma',\n       'TWOE', 'Ulefone', 'Verico', 'Tele2', 'Rezone', 'MobiWire',\n       'Vingroup', 'Razer'], dtype=object)"
     },
     "execution_count": 43,
     "metadata": {},
     "output_type": "execute_result"
    }
   ],
   "source": [
    "df['Company'].unique()"
   ],
   "metadata": {
    "collapsed": false,
    "pycharm": {
     "name": "#%%\n"
    }
   }
  },
  {
   "cell_type": "code",
   "execution_count": 46,
   "outputs": [
    {
     "data": {
      "text/plain": "         Company      Revenue\n0           ASUS     8.788730\n1       Aligator     3.548647\n2          Apple  4380.231341\n3         Archos     0.258329\n4            Ark     0.314726\n..           ...          ...\n66  myPhone (EU)     6.642021\n67         nubia     0.302853\n68        realme   155.640848\n69         teXet    21.244648\n70          vivo    72.792508\n\n[71 rows x 2 columns]",
      "text/html": "<div>\n<style scoped>\n    .dataframe tbody tr th:only-of-type {\n        vertical-align: middle;\n    }\n\n    .dataframe tbody tr th {\n        vertical-align: top;\n    }\n\n    .dataframe thead th {\n        text-align: right;\n    }\n</style>\n<table border=\"1\" class=\"dataframe\">\n  <thead>\n    <tr style=\"text-align: right;\">\n      <th></th>\n      <th>Company</th>\n      <th>Revenue</th>\n    </tr>\n  </thead>\n  <tbody>\n    <tr>\n      <th>0</th>\n      <td>ASUS</td>\n      <td>8.788730</td>\n    </tr>\n    <tr>\n      <th>1</th>\n      <td>Aligator</td>\n      <td>3.548647</td>\n    </tr>\n    <tr>\n      <th>2</th>\n      <td>Apple</td>\n      <td>4380.231341</td>\n    </tr>\n    <tr>\n      <th>3</th>\n      <td>Archos</td>\n      <td>0.258329</td>\n    </tr>\n    <tr>\n      <th>4</th>\n      <td>Ark</td>\n      <td>0.314726</td>\n    </tr>\n    <tr>\n      <th>...</th>\n      <td>...</td>\n      <td>...</td>\n    </tr>\n    <tr>\n      <th>66</th>\n      <td>myPhone (EU)</td>\n      <td>6.642021</td>\n    </tr>\n    <tr>\n      <th>67</th>\n      <td>nubia</td>\n      <td>0.302853</td>\n    </tr>\n    <tr>\n      <th>68</th>\n      <td>realme</td>\n      <td>155.640848</td>\n    </tr>\n    <tr>\n      <th>69</th>\n      <td>teXet</td>\n      <td>21.244648</td>\n    </tr>\n    <tr>\n      <th>70</th>\n      <td>vivo</td>\n      <td>72.792508</td>\n    </tr>\n  </tbody>\n</table>\n<p>71 rows × 2 columns</p>\n</div>"
     },
     "execution_count": 46,
     "metadata": {},
     "output_type": "execute_result"
    }
   ],
   "source": [
    "df.groupby('Company').sum().reset_index()"
   ],
   "metadata": {
    "collapsed": false,
    "pycharm": {
     "name": "#%%\n"
    }
   }
  },
  {
   "cell_type": "markdown",
   "source": [
    "#### Then tackle exchange.xlsx"
   ],
   "metadata": {
    "collapsed": false,
    "pycharm": {
     "name": "#%% md\n"
    }
   }
  },
  {
   "cell_type": "code",
   "execution_count": 20,
   "outputs": [],
   "source": [
    "excel_file = pd.ExcelFile('exchange.xlsx')"
   ],
   "metadata": {
    "collapsed": false,
    "pycharm": {
     "name": "#%%\n"
    }
   }
  },
  {
   "cell_type": "code",
   "execution_count": 21,
   "outputs": [
    {
     "data": {
      "text/plain": "['Sheet1']"
     },
     "execution_count": 21,
     "metadata": {},
     "output_type": "execute_result"
    }
   ],
   "source": [
    "excel_file.sheet_names"
   ],
   "metadata": {
    "collapsed": false,
    "pycharm": {
     "name": "#%%\n"
    }
   }
  },
  {
   "cell_type": "code",
   "execution_count": 22,
   "outputs": [],
   "source": [
    "df = excel_file.parse('Sheet1')"
   ],
   "metadata": {
    "collapsed": false,
    "pycharm": {
     "name": "#%%\n"
    }
   }
  },
  {
   "cell_type": "code",
   "execution_count": 23,
   "outputs": [
    {
     "data": {
      "text/plain": "          Country Currency  Annual Rate\n0        Bulgaria      BGN      1.71576\n1         Croatia      HRK      6.61243\n2  Czech Republic      CZK     23.21134\n3         Hungary      HUF    307.88492\n4      Kazakhstan      KZT    414.10104",
      "text/html": "<div>\n<style scoped>\n    .dataframe tbody tr th:only-of-type {\n        vertical-align: middle;\n    }\n\n    .dataframe tbody tr th {\n        vertical-align: top;\n    }\n\n    .dataframe thead th {\n        text-align: right;\n    }\n</style>\n<table border=\"1\" class=\"dataframe\">\n  <thead>\n    <tr style=\"text-align: right;\">\n      <th></th>\n      <th>Country</th>\n      <th>Currency</th>\n      <th>Annual Rate</th>\n    </tr>\n  </thead>\n  <tbody>\n    <tr>\n      <th>0</th>\n      <td>Bulgaria</td>\n      <td>BGN</td>\n      <td>1.71576</td>\n    </tr>\n    <tr>\n      <th>1</th>\n      <td>Croatia</td>\n      <td>HRK</td>\n      <td>6.61243</td>\n    </tr>\n    <tr>\n      <th>2</th>\n      <td>Czech Republic</td>\n      <td>CZK</td>\n      <td>23.21134</td>\n    </tr>\n    <tr>\n      <th>3</th>\n      <td>Hungary</td>\n      <td>HUF</td>\n      <td>307.88492</td>\n    </tr>\n    <tr>\n      <th>4</th>\n      <td>Kazakhstan</td>\n      <td>KZT</td>\n      <td>414.10104</td>\n    </tr>\n  </tbody>\n</table>\n</div>"
     },
     "execution_count": 23,
     "metadata": {},
     "output_type": "execute_result"
    }
   ],
   "source": [
    "df.head()"
   ],
   "metadata": {
    "collapsed": false,
    "pycharm": {
     "name": "#%%\n"
    }
   }
  },
  {
   "cell_type": "code",
   "execution_count": 24,
   "outputs": [
    {
     "data": {
      "text/plain": "       Annual Rate\ncount    11.000000\nmean     87.420205\nstd     141.211684\nmin       0.876940\n25%       2.806550\n50%      23.211340\n75%      87.734790\nmax     414.101040",
      "text/html": "<div>\n<style scoped>\n    .dataframe tbody tr th:only-of-type {\n        vertical-align: middle;\n    }\n\n    .dataframe tbody tr th {\n        vertical-align: top;\n    }\n\n    .dataframe thead th {\n        text-align: right;\n    }\n</style>\n<table border=\"1\" class=\"dataframe\">\n  <thead>\n    <tr style=\"text-align: right;\">\n      <th></th>\n      <th>Annual Rate</th>\n    </tr>\n  </thead>\n  <tbody>\n    <tr>\n      <th>count</th>\n      <td>11.000000</td>\n    </tr>\n    <tr>\n      <th>mean</th>\n      <td>87.420205</td>\n    </tr>\n    <tr>\n      <th>std</th>\n      <td>141.211684</td>\n    </tr>\n    <tr>\n      <th>min</th>\n      <td>0.876940</td>\n    </tr>\n    <tr>\n      <th>25%</th>\n      <td>2.806550</td>\n    </tr>\n    <tr>\n      <th>50%</th>\n      <td>23.211340</td>\n    </tr>\n    <tr>\n      <th>75%</th>\n      <td>87.734790</td>\n    </tr>\n    <tr>\n      <th>max</th>\n      <td>414.101040</td>\n    </tr>\n  </tbody>\n</table>\n</div>"
     },
     "execution_count": 24,
     "metadata": {},
     "output_type": "execute_result"
    }
   ],
   "source": [
    "df.describe()"
   ],
   "metadata": {
    "collapsed": false,
    "pycharm": {
     "name": "#%%\n"
    }
   }
  },
  {
   "cell_type": "code",
   "execution_count": 26,
   "outputs": [
    {
     "data": {
      "text/plain": "Country        0\nCurrency       0\nAnnual Rate    0\ndtype: int64"
     },
     "execution_count": 26,
     "metadata": {},
     "output_type": "execute_result"
    }
   ],
   "source": [
    "df.isnull().sum()"
   ],
   "metadata": {
    "collapsed": false,
    "pycharm": {
     "name": "#%%\n"
    }
   }
  },
  {
   "cell_type": "code",
   "execution_count": null,
   "outputs": [],
   "source": [],
   "metadata": {
    "collapsed": false,
    "pycharm": {
     "name": "#%%\n"
    }
   }
  }
 ],
 "metadata": {
  "kernelspec": {
   "display_name": "Python 3",
   "language": "python",
   "name": "python3"
  },
  "language_info": {
   "codemirror_mode": {
    "name": "ipython",
    "version": 2
   },
   "file_extension": ".py",
   "mimetype": "text/x-python",
   "name": "python",
   "nbconvert_exporter": "python",
   "pygments_lexer": "ipython2",
   "version": "2.7.6"
  }
 },
 "nbformat": 4,
 "nbformat_minor": 0
}