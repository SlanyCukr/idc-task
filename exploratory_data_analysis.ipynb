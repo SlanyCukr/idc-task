{
 "cells": [
  {
   "cell_type": "code",
   "execution_count": 10,
   "outputs": [],
   "source": [
    "import pandas as pd"
   ],
   "metadata": {
    "collapsed": false,
    "pycharm": {
     "name": "#%%\n"
    }
   }
  },
  {
   "cell_type": "markdown",
   "source": [
    "#### First tackle 'data.xlsx'"
   ],
   "metadata": {
    "collapsed": false,
    "pycharm": {
     "name": "#%% md\n"
    }
   }
  },
  {
   "cell_type": "code",
   "execution_count": 4,
   "outputs": [],
   "source": [
    "excel_file = pd.ExcelFile('data.xlsx')"
   ],
   "metadata": {
    "collapsed": false,
    "pycharm": {
     "name": "#%%\n"
    }
   }
  },
  {
   "cell_type": "code",
   "execution_count": 5,
   "outputs": [
    {
     "data": {
      "text/plain": "['Sheet0']"
     },
     "execution_count": 5,
     "metadata": {},
     "output_type": "execute_result"
    }
   ],
   "source": [
    "excel_file.sheet_names"
   ],
   "metadata": {
    "collapsed": false,
    "pycharm": {
     "name": "#%%\n"
    }
   }
  },
  {
   "cell_type": "code",
   "execution_count": 6,
   "outputs": [],
   "source": [
    "df = excel_file.parse('Sheet0')"
   ],
   "metadata": {
    "collapsed": false,
    "pycharm": {
     "name": "#%%\n"
    }
   }
  },
  {
   "cell_type": "code",
   "execution_count": 7,
   "outputs": [
    {
     "data": {
      "text/plain": "    Country Quarter  Company    Revenue\n0  Bulgaria  2020Q2    Apple  15.049732\n1  Bulgaria  2020Q2  Bullitt   0.043980\n2  Bulgaria  2020Q2      HMD   2.604022\n3  Bulgaria  2020Q2    Honor   1.030942\n4  Bulgaria  2020Q2   Huawei  20.704771",
      "text/html": "<div>\n<style scoped>\n    .dataframe tbody tr th:only-of-type {\n        vertical-align: middle;\n    }\n\n    .dataframe tbody tr th {\n        vertical-align: top;\n    }\n\n    .dataframe thead th {\n        text-align: right;\n    }\n</style>\n<table border=\"1\" class=\"dataframe\">\n  <thead>\n    <tr style=\"text-align: right;\">\n      <th></th>\n      <th>Country</th>\n      <th>Quarter</th>\n      <th>Company</th>\n      <th>Revenue</th>\n    </tr>\n  </thead>\n  <tbody>\n    <tr>\n      <th>0</th>\n      <td>Bulgaria</td>\n      <td>2020Q2</td>\n      <td>Apple</td>\n      <td>15.049732</td>\n    </tr>\n    <tr>\n      <th>1</th>\n      <td>Bulgaria</td>\n      <td>2020Q2</td>\n      <td>Bullitt</td>\n      <td>0.043980</td>\n    </tr>\n    <tr>\n      <th>2</th>\n      <td>Bulgaria</td>\n      <td>2020Q2</td>\n      <td>HMD</td>\n      <td>2.604022</td>\n    </tr>\n    <tr>\n      <th>3</th>\n      <td>Bulgaria</td>\n      <td>2020Q2</td>\n      <td>Honor</td>\n      <td>1.030942</td>\n    </tr>\n    <tr>\n      <th>4</th>\n      <td>Bulgaria</td>\n      <td>2020Q2</td>\n      <td>Huawei</td>\n      <td>20.704771</td>\n    </tr>\n  </tbody>\n</table>\n</div>"
     },
     "execution_count": 7,
     "metadata": {},
     "output_type": "execute_result"
    }
   ],
   "source": [
    "df.head()"
   ],
   "metadata": {
    "collapsed": false,
    "pycharm": {
     "name": "#%%\n"
    }
   }
  },
  {
   "cell_type": "code",
   "execution_count": 8,
   "outputs": [
    {
     "data": {
      "text/plain": "           Revenue\ncount   828.000000\nmean     17.920343\nstd      72.202902\nmin       0.001494\n25%       0.323618\n50%       1.109595\n75%       7.930275\nmax    1170.686911",
      "text/html": "<div>\n<style scoped>\n    .dataframe tbody tr th:only-of-type {\n        vertical-align: middle;\n    }\n\n    .dataframe tbody tr th {\n        vertical-align: top;\n    }\n\n    .dataframe thead th {\n        text-align: right;\n    }\n</style>\n<table border=\"1\" class=\"dataframe\">\n  <thead>\n    <tr style=\"text-align: right;\">\n      <th></th>\n      <th>Revenue</th>\n    </tr>\n  </thead>\n  <tbody>\n    <tr>\n      <th>count</th>\n      <td>828.000000</td>\n    </tr>\n    <tr>\n      <th>mean</th>\n      <td>17.920343</td>\n    </tr>\n    <tr>\n      <th>std</th>\n      <td>72.202902</td>\n    </tr>\n    <tr>\n      <th>min</th>\n      <td>0.001494</td>\n    </tr>\n    <tr>\n      <th>25%</th>\n      <td>0.323618</td>\n    </tr>\n    <tr>\n      <th>50%</th>\n      <td>1.109595</td>\n    </tr>\n    <tr>\n      <th>75%</th>\n      <td>7.930275</td>\n    </tr>\n    <tr>\n      <th>max</th>\n      <td>1170.686911</td>\n    </tr>\n  </tbody>\n</table>\n</div>"
     },
     "execution_count": 8,
     "metadata": {},
     "output_type": "execute_result"
    }
   ],
   "source": [
    "df.describe()"
   ],
   "metadata": {
    "collapsed": false,
    "pycharm": {
     "name": "#%%\n"
    }
   }
  },
  {
   "cell_type": "code",
   "execution_count": 9,
   "outputs": [
    {
     "data": {
      "text/plain": "Country    0\nQuarter    0\nCompany    0\nRevenue    0\ndtype: int64"
     },
     "execution_count": 9,
     "metadata": {},
     "output_type": "execute_result"
    }
   ],
   "source": [
    "df.isnull().sum()"
   ],
   "metadata": {
    "collapsed": false,
    "pycharm": {
     "name": "#%%\n"
    }
   }
  },
  {
   "cell_type": "markdown",
   "source": [
    "#### Then tackle exchange.xlsx"
   ],
   "metadata": {
    "collapsed": false,
    "pycharm": {
     "name": "#%% md\n"
    }
   }
  },
  {
   "cell_type": "code",
   "execution_count": 11,
   "outputs": [],
   "source": [
    "excel_file = pd.ExcelFile('exchange.xlsx')"
   ],
   "metadata": {
    "collapsed": false,
    "pycharm": {
     "name": "#%%\n"
    }
   }
  },
  {
   "cell_type": "code",
   "execution_count": 12,
   "outputs": [
    {
     "data": {
      "text/plain": "['Sheet0']"
     },
     "execution_count": 12,
     "metadata": {},
     "output_type": "execute_result"
    }
   ],
   "source": [
    "excel_file.sheet_names"
   ],
   "metadata": {
    "collapsed": false,
    "pycharm": {
     "name": "#%%\n"
    }
   }
  },
  {
   "cell_type": "code",
   "execution_count": 13,
   "outputs": [],
   "source": [
    "df = excel_file.parse('Sheet0')"
   ],
   "metadata": {
    "collapsed": false,
    "pycharm": {
     "name": "#%%\n"
    }
   }
  },
  {
   "cell_type": "code",
   "execution_count": 14,
   "outputs": [
    {
     "data": {
      "text/plain": "    Country Quarter  Company    Revenue\n0  Bulgaria  2020Q2    Apple  15.049732\n1  Bulgaria  2020Q2  Bullitt   0.043980\n2  Bulgaria  2020Q2      HMD   2.604022\n3  Bulgaria  2020Q2    Honor   1.030942\n4  Bulgaria  2020Q2   Huawei  20.704771",
      "text/html": "<div>\n<style scoped>\n    .dataframe tbody tr th:only-of-type {\n        vertical-align: middle;\n    }\n\n    .dataframe tbody tr th {\n        vertical-align: top;\n    }\n\n    .dataframe thead th {\n        text-align: right;\n    }\n</style>\n<table border=\"1\" class=\"dataframe\">\n  <thead>\n    <tr style=\"text-align: right;\">\n      <th></th>\n      <th>Country</th>\n      <th>Quarter</th>\n      <th>Company</th>\n      <th>Revenue</th>\n    </tr>\n  </thead>\n  <tbody>\n    <tr>\n      <th>0</th>\n      <td>Bulgaria</td>\n      <td>2020Q2</td>\n      <td>Apple</td>\n      <td>15.049732</td>\n    </tr>\n    <tr>\n      <th>1</th>\n      <td>Bulgaria</td>\n      <td>2020Q2</td>\n      <td>Bullitt</td>\n      <td>0.043980</td>\n    </tr>\n    <tr>\n      <th>2</th>\n      <td>Bulgaria</td>\n      <td>2020Q2</td>\n      <td>HMD</td>\n      <td>2.604022</td>\n    </tr>\n    <tr>\n      <th>3</th>\n      <td>Bulgaria</td>\n      <td>2020Q2</td>\n      <td>Honor</td>\n      <td>1.030942</td>\n    </tr>\n    <tr>\n      <th>4</th>\n      <td>Bulgaria</td>\n      <td>2020Q2</td>\n      <td>Huawei</td>\n      <td>20.704771</td>\n    </tr>\n  </tbody>\n</table>\n</div>"
     },
     "execution_count": 14,
     "metadata": {},
     "output_type": "execute_result"
    }
   ],
   "source": [
    "df.head()"
   ],
   "metadata": {
    "collapsed": false,
    "pycharm": {
     "name": "#%%\n"
    }
   }
  },
  {
   "cell_type": "code",
   "execution_count": 15,
   "outputs": [
    {
     "data": {
      "text/plain": "           Revenue\ncount   828.000000\nmean     17.920343\nstd      72.202902\nmin       0.001494\n25%       0.323618\n50%       1.109595\n75%       7.930275\nmax    1170.686911",
      "text/html": "<div>\n<style scoped>\n    .dataframe tbody tr th:only-of-type {\n        vertical-align: middle;\n    }\n\n    .dataframe tbody tr th {\n        vertical-align: top;\n    }\n\n    .dataframe thead th {\n        text-align: right;\n    }\n</style>\n<table border=\"1\" class=\"dataframe\">\n  <thead>\n    <tr style=\"text-align: right;\">\n      <th></th>\n      <th>Revenue</th>\n    </tr>\n  </thead>\n  <tbody>\n    <tr>\n      <th>count</th>\n      <td>828.000000</td>\n    </tr>\n    <tr>\n      <th>mean</th>\n      <td>17.920343</td>\n    </tr>\n    <tr>\n      <th>std</th>\n      <td>72.202902</td>\n    </tr>\n    <tr>\n      <th>min</th>\n      <td>0.001494</td>\n    </tr>\n    <tr>\n      <th>25%</th>\n      <td>0.323618</td>\n    </tr>\n    <tr>\n      <th>50%</th>\n      <td>1.109595</td>\n    </tr>\n    <tr>\n      <th>75%</th>\n      <td>7.930275</td>\n    </tr>\n    <tr>\n      <th>max</th>\n      <td>1170.686911</td>\n    </tr>\n  </tbody>\n</table>\n</div>"
     },
     "execution_count": 15,
     "metadata": {},
     "output_type": "execute_result"
    }
   ],
   "source": [
    "df.describe()"
   ],
   "metadata": {
    "collapsed": false,
    "pycharm": {
     "name": "#%%\n"
    }
   }
  },
  {
   "cell_type": "code",
   "execution_count": 16,
   "outputs": [
    {
     "data": {
      "text/plain": "Country    0\nQuarter    0\nCompany    0\nRevenue    0\ndtype: int64"
     },
     "execution_count": 16,
     "metadata": {},
     "output_type": "execute_result"
    }
   ],
   "source": [
    "df.isnull().sum()"
   ],
   "metadata": {
    "collapsed": false,
    "pycharm": {
     "name": "#%%\n"
    }
   }
  },
  {
   "cell_type": "code",
   "execution_count": null,
   "outputs": [],
   "source": [],
   "metadata": {
    "collapsed": false,
    "pycharm": {
     "name": "#%%\n"
    }
   }
  }
 ],
 "metadata": {
  "kernelspec": {
   "display_name": "Python 3",
   "language": "python",
   "name": "python3"
  },
  "language_info": {
   "codemirror_mode": {
    "name": "ipython",
    "version": 2
   },
   "file_extension": ".py",
   "mimetype": "text/x-python",
   "name": "python",
   "nbconvert_exporter": "python",
   "pygments_lexer": "ipython2",
   "version": "2.7.6"
  }
 },
 "nbformat": 4,
 "nbformat_minor": 0
}